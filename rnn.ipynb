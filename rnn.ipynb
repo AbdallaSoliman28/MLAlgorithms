{
 "cells": [
  {
   "cell_type": "code",
   "execution_count": 35,
   "metadata": {},
   "outputs": [],
   "source": [
    "import numpy as np\n",
    "import pandas as pd\n",
    "import tensorflow as tf \n",
    "import matplotlib.pyplot as plt\n",
    "tf.keras.backend.clear_session()\n"
   ]
  },
  {
   "cell_type": "code",
   "execution_count": 16,
   "metadata": {},
   "outputs": [],
   "source": [
    "ds = pd.read_csv(\"adult.csv\")\n",
    "ds.replace('?', np.nan, inplace=True)\n",
    "ds.dropna(inplace=True)"
   ]
  },
  {
   "cell_type": "code",
   "execution_count": 17,
   "metadata": {},
   "outputs": [],
   "source": [
    "x=ds.iloc[:,:-1].values\n",
    "y=ds.iloc[:,-1].values"
   ]
  },
  {
   "cell_type": "code",
   "execution_count": 18,
   "metadata": {},
   "outputs": [],
   "source": [
    "from sklearn.model_selection import train_test_split\n",
    "x_train, x_test, y_train, y_test = train_test_split(x,y,test_size=0.2,random_state=0)"
   ]
  },
  {
   "cell_type": "code",
   "execution_count": 19,
   "metadata": {},
   "outputs": [],
   "source": [
    "from sklearn.impute import SimpleImputer \n",
    "imputer = SimpleImputer(missing_values=np.nan, strategy=\"most_frequent\")\n",
    "x_train[:, 1:]=imputer.fit_transform(x_train[:,1:]) "
   ]
  },
  {
   "cell_type": "code",
   "execution_count": 20,
   "metadata": {},
   "outputs": [],
   "source": [
    "from sklearn.preprocessing import LabelEncoder\n",
    "\n",
    "ordinal_categorical_columns = [1, 3, 5, 6, 7, 8, 9, 13]\n",
    "\n",
    "label_encoders = []\n",
    "for col_index in ordinal_categorical_columns:\n",
    "    le = LabelEncoder()\n",
    "    x_train[:, col_index] = le.fit_transform(x_train[:, col_index])\n",
    "    x_test[:, col_index] = le.transform(x_test[:, col_index])\n",
    "    label_encoders.append(le)"
   ]
  },
  {
   "cell_type": "code",
   "execution_count": 21,
   "metadata": {},
   "outputs": [],
   "source": [
    "from sklearn.preprocessing import LabelEncoder\n",
    "lb_obj= LabelEncoder() \n",
    "y_train=lb_obj.fit_transform(y_train)\n",
    "y_test=lb_obj.transform(y_test)"
   ]
  },
  {
   "cell_type": "code",
   "execution_count": 22,
   "metadata": {},
   "outputs": [],
   "source": [
    "from sklearn.preprocessing import MinMaxScaler \n",
    "scaler = MinMaxScaler()  \n",
    "x_train_normalized = scaler.fit_transform(x_train)\n",
    "x_test_normalized = scaler.transform(x_test)\n"
   ]
  },
  {
   "cell_type": "code",
   "execution_count": 25,
   "metadata": {},
   "outputs": [],
   "source": [
    "from tensorflow.keras.models import Sequential\n",
    "from tensorflow.keras.layers import LSTM\n",
    "from tensorflow.keras.layers import Dense\n",
    "from tensorflow.keras.layers import Dropout\n",
    "\n",
    "model=Sequential()"
   ]
  },
  {
   "cell_type": "code",
   "execution_count": 27,
   "metadata": {},
   "outputs": [],
   "source": [
    "model.add(LSTM(units=50,return_sequences=True,input_shape=(x_train_normalized.shape[1],1)))\n",
    "model.add(Dropout(0.2))"
   ]
  },
  {
   "cell_type": "code",
   "execution_count": 28,
   "metadata": {},
   "outputs": [],
   "source": [
    "model.add(LSTM(units=50,return_sequences=True))\n",
    "model.add(Dropout(0.2))"
   ]
  },
  {
   "cell_type": "code",
   "execution_count": 29,
   "metadata": {},
   "outputs": [],
   "source": [
    "model.add(LSTM(units=50,return_sequences=True))\n",
    "model.add(Dropout(0.2))"
   ]
  },
  {
   "cell_type": "code",
   "execution_count": 30,
   "metadata": {},
   "outputs": [],
   "source": [
    "model.add(LSTM(units=50))\n",
    "model.add(Dropout(0.2))"
   ]
  },
  {
   "cell_type": "code",
   "execution_count": 31,
   "metadata": {},
   "outputs": [],
   "source": [
    "model.add(Dense(units=1))"
   ]
  },
  {
   "cell_type": "code",
   "execution_count": 39,
   "metadata": {},
   "outputs": [],
   "source": [
    "model.compile(optimizer='adam', loss='mse', metrics=['accuracy'])"
   ]
  },
  {
   "cell_type": "code",
   "execution_count": 40,
   "metadata": {},
   "outputs": [
    {
     "name": "stdout",
     "output_type": "stream",
     "text": [
      "Epoch 1/100\n",
      "814/814 [==============================] - 16s 15ms/step - loss: 0.1774 - accuracy: 0.7576\n",
      "Epoch 2/100\n",
      "814/814 [==============================] - 13s 17ms/step - loss: 0.1657 - accuracy: 0.7584\n",
      "Epoch 3/100\n",
      "814/814 [==============================] - 15s 18ms/step - loss: 0.1517 - accuracy: 0.7758\n",
      "Epoch 4/100\n",
      "814/814 [==============================] - 15s 18ms/step - loss: 0.1447 - accuracy: 0.7876\n",
      "Epoch 5/100\n",
      "814/814 [==============================] - 16s 20ms/step - loss: 0.1403 - accuracy: 0.7948\n",
      "Epoch 6/100\n",
      "814/814 [==============================] - 16s 20ms/step - loss: 0.1371 - accuracy: 0.8009\n",
      "Epoch 7/100\n",
      "814/814 [==============================] - 16s 20ms/step - loss: 0.1314 - accuracy: 0.8123\n",
      "Epoch 8/100\n",
      "814/814 [==============================] - 17s 21ms/step - loss: 0.1270 - accuracy: 0.8187\n",
      "Epoch 9/100\n",
      "814/814 [==============================] - 18s 22ms/step - loss: 0.1242 - accuracy: 0.8184\n",
      "Epoch 10/100\n",
      "814/814 [==============================] - 17s 21ms/step - loss: 0.1228 - accuracy: 0.8216\n",
      "Epoch 11/100\n",
      "814/814 [==============================] - 17s 21ms/step - loss: 0.1211 - accuracy: 0.8248\n",
      "Epoch 12/100\n",
      "814/814 [==============================] - 18s 22ms/step - loss: 0.1202 - accuracy: 0.8251\n",
      "Epoch 13/100\n",
      "814/814 [==============================] - 19s 23ms/step - loss: 0.1185 - accuracy: 0.8312\n",
      "Epoch 14/100\n",
      "814/814 [==============================] - 19s 23ms/step - loss: 0.1178 - accuracy: 0.8294\n",
      "Epoch 15/100\n",
      "814/814 [==============================] - 19s 24ms/step - loss: 0.1177 - accuracy: 0.8305\n",
      "Epoch 16/100\n",
      "814/814 [==============================] - 19s 24ms/step - loss: 0.1161 - accuracy: 0.8318\n",
      "Epoch 17/100\n",
      "814/814 [==============================] - 20s 25ms/step - loss: 0.1155 - accuracy: 0.8343\n",
      "Epoch 18/100\n",
      "814/814 [==============================] - 21s 26ms/step - loss: 0.1149 - accuracy: 0.8323\n",
      "Epoch 19/100\n",
      "814/814 [==============================] - 20s 25ms/step - loss: 0.1144 - accuracy: 0.8312\n",
      "Epoch 20/100\n",
      "814/814 [==============================] - 20s 25ms/step - loss: 0.1133 - accuracy: 0.8377\n",
      "Epoch 21/100\n",
      "814/814 [==============================] - 20s 25ms/step - loss: 0.1127 - accuracy: 0.8396\n",
      "Epoch 22/100\n",
      "814/814 [==============================] - 21s 26ms/step - loss: 0.1124 - accuracy: 0.8377\n",
      "Epoch 23/100\n",
      "814/814 [==============================] - 21s 26ms/step - loss: 0.1121 - accuracy: 0.8385\n",
      "Epoch 24/100\n",
      "814/814 [==============================] - 20s 25ms/step - loss: 0.1124 - accuracy: 0.8376\n",
      "Epoch 25/100\n",
      "814/814 [==============================] - 20s 25ms/step - loss: 0.1114 - accuracy: 0.8394\n",
      "Epoch 26/100\n",
      "814/814 [==============================] - 21s 26ms/step - loss: 0.1108 - accuracy: 0.8396\n",
      "Epoch 27/100\n",
      "814/814 [==============================] - 24s 30ms/step - loss: 0.1113 - accuracy: 0.8403\n",
      "Epoch 28/100\n",
      "814/814 [==============================] - 23s 28ms/step - loss: 0.1101 - accuracy: 0.8405\n",
      "Epoch 29/100\n",
      "814/814 [==============================] - 22s 27ms/step - loss: 0.1101 - accuracy: 0.8406\n",
      "Epoch 30/100\n",
      "814/814 [==============================] - 22s 27ms/step - loss: 0.1097 - accuracy: 0.8425\n",
      "Epoch 31/100\n",
      "814/814 [==============================] - 22s 27ms/step - loss: 0.1089 - accuracy: 0.8429\n",
      "Epoch 32/100\n",
      "814/814 [==============================] - 22s 27ms/step - loss: 0.1083 - accuracy: 0.8439\n",
      "Epoch 33/100\n",
      "814/814 [==============================] - 23s 28ms/step - loss: 0.1087 - accuracy: 0.8419\n",
      "Epoch 34/100\n",
      "814/814 [==============================] - 22s 27ms/step - loss: 0.1080 - accuracy: 0.8454\n",
      "Epoch 35/100\n",
      "814/814 [==============================] - 22s 27ms/step - loss: 0.1078 - accuracy: 0.8433\n",
      "Epoch 36/100\n",
      "814/814 [==============================] - 22s 27ms/step - loss: 0.1069 - accuracy: 0.8453\n",
      "Epoch 37/100\n",
      "814/814 [==============================] - 22s 27ms/step - loss: 0.1073 - accuracy: 0.8446\n",
      "Epoch 38/100\n",
      "814/814 [==============================] - 21s 26ms/step - loss: 0.1075 - accuracy: 0.8440\n",
      "Epoch 39/100\n",
      "814/814 [==============================] - 21s 26ms/step - loss: 0.1066 - accuracy: 0.8467\n",
      "Epoch 40/100\n",
      "814/814 [==============================] - 22s 27ms/step - loss: 0.1074 - accuracy: 0.8439\n",
      "Epoch 41/100\n",
      "814/814 [==============================] - 22s 27ms/step - loss: 0.1060 - accuracy: 0.8471\n",
      "Epoch 42/100\n",
      "814/814 [==============================] - 23s 28ms/step - loss: 0.1066 - accuracy: 0.8467\n",
      "Epoch 43/100\n",
      "814/814 [==============================] - 23s 28ms/step - loss: 0.1063 - accuracy: 0.8457\n",
      "Epoch 44/100\n",
      "814/814 [==============================] - 23s 28ms/step - loss: 0.1061 - accuracy: 0.8463\n",
      "Epoch 45/100\n",
      "814/814 [==============================] - 23s 28ms/step - loss: 0.1061 - accuracy: 0.8454\n",
      "Epoch 46/100\n",
      "814/814 [==============================] - 23s 28ms/step - loss: 0.1060 - accuracy: 0.8457\n",
      "Epoch 47/100\n",
      "814/814 [==============================] - 23s 29ms/step - loss: 0.1053 - accuracy: 0.8481\n",
      "Epoch 48/100\n",
      "814/814 [==============================] - 23s 28ms/step - loss: 0.1054 - accuracy: 0.8467\n",
      "Epoch 49/100\n",
      "814/814 [==============================] - 23s 28ms/step - loss: 0.1055 - accuracy: 0.8483\n",
      "Epoch 50/100\n",
      "814/814 [==============================] - 23s 28ms/step - loss: 0.1052 - accuracy: 0.8474\n",
      "Epoch 51/100\n",
      "814/814 [==============================] - 23s 29ms/step - loss: 0.1047 - accuracy: 0.8482\n",
      "Epoch 52/100\n",
      "814/814 [==============================] - 23s 28ms/step - loss: 0.1047 - accuracy: 0.8503\n",
      "Epoch 53/100\n",
      "814/814 [==============================] - 23s 28ms/step - loss: 0.1042 - accuracy: 0.8494\n",
      "Epoch 54/100\n",
      "814/814 [==============================] - 23s 28ms/step - loss: 0.1041 - accuracy: 0.8487\n",
      "Epoch 55/100\n",
      "814/814 [==============================] - 24s 30ms/step - loss: 0.1041 - accuracy: 0.8479\n",
      "Epoch 56/100\n",
      "814/814 [==============================] - 23s 29ms/step - loss: 0.1042 - accuracy: 0.8509\n",
      "Epoch 57/100\n",
      "814/814 [==============================] - 24s 30ms/step - loss: 0.1033 - accuracy: 0.8514\n",
      "Epoch 58/100\n",
      "814/814 [==============================] - 23s 29ms/step - loss: 0.1035 - accuracy: 0.8505\n",
      "Epoch 59/100\n",
      "814/814 [==============================] - 24s 29ms/step - loss: 0.1029 - accuracy: 0.8519\n",
      "Epoch 60/100\n",
      "814/814 [==============================] - 23s 28ms/step - loss: 0.1029 - accuracy: 0.8517\n",
      "Epoch 61/100\n",
      "814/814 [==============================] - 23s 28ms/step - loss: 0.1032 - accuracy: 0.8519\n",
      "Epoch 62/100\n",
      "814/814 [==============================] - 23s 28ms/step - loss: 0.1025 - accuracy: 0.8528\n",
      "Epoch 63/100\n",
      "814/814 [==============================] - 24s 29ms/step - loss: 0.1033 - accuracy: 0.8502\n",
      "Epoch 64/100\n",
      "814/814 [==============================] - 23s 28ms/step - loss: 0.1020 - accuracy: 0.8538\n",
      "Epoch 65/100\n",
      "814/814 [==============================] - 23s 29ms/step - loss: 0.1018 - accuracy: 0.8527\n",
      "Epoch 66/100\n",
      "814/814 [==============================] - 23s 28ms/step - loss: 0.1025 - accuracy: 0.8537\n",
      "Epoch 67/100\n",
      "814/814 [==============================] - 23s 28ms/step - loss: 0.1019 - accuracy: 0.8521\n",
      "Epoch 68/100\n",
      "814/814 [==============================] - 23s 29ms/step - loss: 0.1014 - accuracy: 0.8523\n",
      "Epoch 69/100\n",
      "814/814 [==============================] - 23s 28ms/step - loss: 0.1012 - accuracy: 0.8548\n",
      "Epoch 70/100\n",
      "814/814 [==============================] - 23s 29ms/step - loss: 0.1012 - accuracy: 0.8527\n",
      "Epoch 71/100\n",
      "814/814 [==============================] - 23s 29ms/step - loss: 0.1012 - accuracy: 0.8533\n",
      "Epoch 72/100\n",
      "814/814 [==============================] - 24s 29ms/step - loss: 0.1010 - accuracy: 0.8543\n",
      "Epoch 73/100\n",
      "814/814 [==============================] - 24s 30ms/step - loss: 0.1011 - accuracy: 0.8554\n",
      "Epoch 74/100\n",
      "814/814 [==============================] - 23s 29ms/step - loss: 0.1000 - accuracy: 0.8552\n",
      "Epoch 75/100\n",
      "814/814 [==============================] - 23s 29ms/step - loss: 0.0999 - accuracy: 0.8556\n",
      "Epoch 76/100\n",
      "814/814 [==============================] - 24s 29ms/step - loss: 0.0998 - accuracy: 0.8554\n",
      "Epoch 77/100\n",
      "814/814 [==============================] - 23s 28ms/step - loss: 0.0997 - accuracy: 0.8568\n",
      "Epoch 78/100\n",
      "814/814 [==============================] - 23s 29ms/step - loss: 0.0998 - accuracy: 0.8563\n",
      "Epoch 79/100\n",
      "814/814 [==============================] - 23s 28ms/step - loss: 0.0986 - accuracy: 0.8583\n",
      "Epoch 80/100\n",
      "814/814 [==============================] - 23s 28ms/step - loss: 0.0993 - accuracy: 0.8573\n",
      "Epoch 81/100\n",
      "814/814 [==============================] - 23s 29ms/step - loss: 0.0991 - accuracy: 0.8562\n",
      "Epoch 82/100\n",
      "814/814 [==============================] - 23s 28ms/step - loss: 0.0991 - accuracy: 0.8578\n",
      "Epoch 83/100\n",
      "814/814 [==============================] - 23s 29ms/step - loss: 0.0985 - accuracy: 0.8581\n",
      "Epoch 84/100\n",
      "814/814 [==============================] - 23s 28ms/step - loss: 0.0979 - accuracy: 0.8598\n",
      "Epoch 85/100\n",
      "814/814 [==============================] - 24s 29ms/step - loss: 0.0986 - accuracy: 0.8577\n",
      "Epoch 86/100\n",
      "814/814 [==============================] - 24s 29ms/step - loss: 0.0979 - accuracy: 0.8596\n",
      "Epoch 87/100\n",
      "814/814 [==============================] - 24s 29ms/step - loss: 0.0978 - accuracy: 0.8587\n",
      "Epoch 88/100\n",
      "814/814 [==============================] - 23s 28ms/step - loss: 0.0976 - accuracy: 0.8595\n",
      "Epoch 89/100\n",
      "814/814 [==============================] - 24s 29ms/step - loss: 0.0977 - accuracy: 0.8575\n",
      "Epoch 90/100\n",
      "814/814 [==============================] - 25s 31ms/step - loss: 0.0967 - accuracy: 0.8610\n",
      "Epoch 91/100\n",
      "814/814 [==============================] - 24s 30ms/step - loss: 0.0977 - accuracy: 0.8599\n",
      "Epoch 92/100\n",
      "814/814 [==============================] - 23s 28ms/step - loss: 0.0960 - accuracy: 0.8606\n",
      "Epoch 93/100\n",
      "814/814 [==============================] - 23s 28ms/step - loss: 0.0964 - accuracy: 0.8608\n",
      "Epoch 94/100\n",
      "814/814 [==============================] - 23s 28ms/step - loss: 0.0963 - accuracy: 0.8618\n",
      "Epoch 95/100\n",
      "814/814 [==============================] - 23s 29ms/step - loss: 0.0962 - accuracy: 0.8613\n",
      "Epoch 96/100\n",
      "814/814 [==============================] - 23s 28ms/step - loss: 0.0965 - accuracy: 0.8623\n",
      "Epoch 97/100\n",
      "814/814 [==============================] - 23s 28ms/step - loss: 0.0957 - accuracy: 0.8621\n",
      "Epoch 98/100\n",
      "814/814 [==============================] - 23s 29ms/step - loss: 0.0957 - accuracy: 0.8624\n",
      "Epoch 99/100\n",
      "814/814 [==============================] - 23s 29ms/step - loss: 0.0964 - accuracy: 0.8629\n",
      "Epoch 100/100\n",
      "814/814 [==============================] - 24s 29ms/step - loss: 0.0951 - accuracy: 0.8623\n"
     ]
    },
    {
     "data": {
      "text/plain": [
       "<keras.src.callbacks.History at 0x1d0a4001dc0>"
      ]
     },
     "execution_count": 40,
     "metadata": {},
     "output_type": "execute_result"
    }
   ],
   "source": [
    "model.fit(x_train_normalized, y_train, epochs = 100, batch_size = 32)"
   ]
  },
  {
   "cell_type": "code",
   "execution_count": 43,
   "metadata": {},
   "outputs": [
    {
     "name": "stdout",
     "output_type": "stream",
     "text": [
      "204/204 [==============================] - 2s 9ms/step\n"
     ]
    }
   ],
   "source": [
    "predicted_stock_price = model.predict(x_test_normalized)\n",
    "predicted_stock_price = np.tile(predicted_stock_price, 14)\n",
    "predicted_stock_price = predicted_stock_price.reshape(-1, 14)\n",
    "predicted_stock_price = scaler.inverse_transform(predicted_stock_price)\n"
   ]
  },
  {
   "cell_type": "code",
   "execution_count": 46,
   "metadata": {},
   "outputs": [
    {
     "data": {
      "image/png": "[encoded data removed]",
      "text/plain": [
       "<Figure size 720x432 with 1 Axes>"
      ]
     },
     "metadata": {
      "needs_background": "light"
     },
     "output_type": "display_data"
    }
   ],
   "source": [
    "plt.figure(figsize=(10, 6))\n",
    "plt.plot(y_test, color='red', label='Real Stock Price')\n",
    "plt.plot(predicted_stock_price.flatten(), color='blue', label='Predicted Stock Price')\n",
    "plt.title('Stock Price Prediction')\n",
    "plt.xlabel('Time')\n",
    "plt.ylabel('Stock Price')\n",
    "plt.legend()\n",
    "plt.show()\n"
   ]
  }
 ],
 "metadata": {
  "kernelspec": {
   "display_name": "Python 3",
   "language": "python",
   "name": "python3"
  },
  "language_info": {
   "name": "python",
   "version": "3.9.13"
  }
 },
 "nbformat": 4,
 "nbformat_minor": 2
}
